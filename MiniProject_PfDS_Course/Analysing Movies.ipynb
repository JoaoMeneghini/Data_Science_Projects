{
 "cells": [
  {
   "cell_type": "markdown",
   "metadata": {},
   "source": [
    "# Title: [No idea]\n",
    "\n",
    "## This project aims to brace up my knowledge with Data Science till now, involving the basics DS libraries: Numpy, Pandas e Matplotlib.\n",
    "\n",
    "The following dataset will be explored:\n",
    "\n",
    "* **Data Source:** MovieLens web site (filename: ml-25m.zip)\n",
    "* **Location:** https://grouplens.org/datasets/movielens/"
   ]
  },
  {
   "cell_type": "markdown",
   "metadata": {},
   "source": [
    "# Importing Libraries"
   ]
  },
  {
   "cell_type": "code",
   "execution_count": 15,
   "metadata": {},
   "outputs": [],
   "source": [
    "import numpy as np\n",
    "import pandas as pd\n",
    "import matplotlib.pyplot as plt"
   ]
  },
  {
   "cell_type": "markdown",
   "metadata": {},
   "source": [
    "# Exploring data"
   ]
  },
  {
   "cell_type": "markdown",
   "metadata": {},
   "source": [
    "## Using UNIX to take a look on the data"
   ]
  },
  {
   "cell_type": "code",
   "execution_count": null,
   "metadata": {},
   "outputs": [],
   "source": [
    "!ls ./movielens"
   ]
  },
  {
   "cell_type": "code",
   "execution_count": null,
   "metadata": {},
   "outputs": [],
   "source": [
    "#!head -5 ./movielens/movies.csv\n",
    "#!head -5 ./movielens/genome-scores.csv\n",
    "#!head -5 ./movielens/genome-tags.csv\n",
    "#!head -5 ./movielens/links.csv\n",
    "#!head -5 ./movielens/ratings.csv\n",
    "!head -5 ./movielens/tags.csv"
   ]
  },
  {
   "cell_type": "markdown",
   "metadata": {},
   "source": [
    "# Using Pandas to explore the data"
   ]
  },
  {
   "cell_type": "markdown",
   "metadata": {},
   "source": [
    "Reading CSVs"
   ]
  },
  {
   "cell_type": "code",
   "execution_count": 110,
   "metadata": {},
   "outputs": [],
   "source": [
    "movie = pd.read_csv('./movielens/movies.csv', sep=',')\n",
    "rating = pd.read_csv('./movielens/ratings.csv', sep=',')\n",
    "tag = pd.read_csv('./movielens/tags.csv', sep=',')"
   ]
  },
  {
   "cell_type": "markdown",
   "metadata": {},
   "source": [
    "Timestamp into datetime"
   ]
  },
  {
   "cell_type": "code",
   "execution_count": 44,
   "metadata": {},
   "outputs": [],
   "source": [
    "rating['timestamp'] = pd.to_datetime(rating['timestamp'], unit='s')"
   ]
  },
  {
   "cell_type": "markdown",
   "metadata": {},
   "source": [
    "Taking a look to the genres"
   ]
  },
  {
   "cell_type": "code",
   "execution_count": 84,
   "metadata": {},
   "outputs": [],
   "source": [
    "movie_genres = movie['genres'].str.split('|', expand=True)"
   ]
  },
  {
   "cell_type": "code",
   "execution_count": 114,
   "metadata": {},
   "outputs": [],
   "source": [
    "movie_genres_array = np.array(movie_genres)\n",
    "movie_genres_single = pd.Series(movie_genres_array.reshape(movie_genres_array.size))"
   ]
  },
  {
   "cell_type": "code",
   "execution_count": 111,
   "metadata": {},
   "outputs": [
    {
     "data": {
      "text/plain": [
       "Drama                 25606\n",
       "Comedy                16870\n",
       "Thriller               8654\n",
       "Romance                7719\n",
       "Action                 7348\n",
       "Horror                 5989\n",
       "Documentary            5605\n",
       "Crime                  5319\n",
       "(no genres listed)     5062\n",
       "Adventure              4145\n",
       "Sci-Fi                 3595\n",
       "Children               2935\n",
       "Animation              2929\n",
       "Mystery                2925\n",
       "Fantasy                2731\n",
       "War                    1874\n",
       "Western                1399\n",
       "Musical                1054\n",
       "Film-Noir               353\n",
       "IMAX                    195\n",
       "dtype: int64"
      ]
     },
     "execution_count": 111,
     "metadata": {},
     "output_type": "execute_result"
    }
   ],
   "source": [
    "movie_genres_single.value_counts().sort_values(ascending=False)\n",
    "# There's 19 unique genres"
   ]
  },
  {
   "cell_type": "code",
   "execution_count": 113,
   "metadata": {},
   "outputs": [
    {
     "data": {
      "text/plain": [
       "array(['Action', 'Adventure', 'Animation', 'Children', 'Comedy', 'Crime',\n",
       "       'Documentary', 'Drama', 'Fantasy', 'Film-Noir', 'Horror', 'IMAX',\n",
       "       'Musical', 'Mystery', 'Romance', 'Sci-Fi', 'Thriller', 'War',\n",
       "       'Western'], dtype=object)"
      ]
     },
     "execution_count": 113,
     "metadata": {},
     "output_type": "execute_result"
    }
   ],
   "source": [
    "unique_genres = movie_genres_single.sort_values(ascending=True).unique()[1:-1]\n",
    "unique_genres\n",
    "# Excluding '(no genres listed)' and 'None'"
   ]
  },
  {
   "cell_type": "markdown",
   "metadata": {},
   "source": [
    "Joining movies with ratings datasets"
   ]
  },
  {
   "cell_type": "code",
   "execution_count": 45,
   "metadata": {},
   "outputs": [],
   "source": [
    "movie_rating = movie.merge(rating[['rating','timestamp','movieId']], on='movieId', how='left')\n",
    "#movie_tag = movie.merge(tag[['tag','timestamp','movieId']], on='movieId', how='left') "
   ]
  },
  {
   "cell_type": "markdown",
   "metadata": {},
   "source": [
    "# Possible questions\n",
    "\n",
    "* Improvement of a genre by the eyes of the users as time passed (avg rating each year/month) - (total = 19 genres)\n",
    "* behavior of a specific movie since its release \n"
   ]
  },
  {
   "cell_type": "markdown",
   "metadata": {},
   "source": [
    "# Data Cleaning"
   ]
  },
  {
   "cell_type": "code",
   "execution_count": null,
   "metadata": {},
   "outputs": [],
   "source": []
  },
  {
   "cell_type": "code",
   "execution_count": null,
   "metadata": {},
   "outputs": [],
   "source": []
  }
 ],
 "metadata": {
  "kernelspec": {
   "display_name": "Python 3",
   "language": "python",
   "name": "python3"
  },
  "language_info": {
   "codemirror_mode": {
    "name": "ipython",
    "version": 3
   },
   "file_extension": ".py",
   "mimetype": "text/x-python",
   "name": "python",
   "nbconvert_exporter": "python",
   "pygments_lexer": "ipython3",
   "version": "3.7.6"
  }
 },
 "nbformat": 4,
 "nbformat_minor": 4
}
